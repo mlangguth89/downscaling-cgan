{
 "cells": [
  {
   "cell_type": "markdown",
   "id": "977696bb-3b2b-4df7-9085-c7d85d720408",
   "metadata": {
    "tags": []
   },
   "source": [
    "# Preprocess IMERG data \n",
    "\n",
    "This Jupyter Notebook preprocesses the original IMERG data (30 minutes precipitation rates). The preprocessing comprises the following steps:\n",
    "- merging from hourly to monthly data files\n",
    "- spatial slicing for a target region \n",
    "- reordering the dimensions for consistency with the ERA5 data (and also to avoid issues with CDO)\n",
    "- remapping to a regular 0.0833°-grid (same as the regridded CERRA data used for AtmoRep)"
   ]
  },
  {
   "cell_type": "code",
   "execution_count": null,
   "id": "0cc59087-2c06-408e-b732-37d2b6f4c5ea",
   "metadata": {
    "tags": []
   },
   "outputs": [],
   "source": [
    "import os\n",
    "import glob\n",
    "from pathlib import Path\n",
    "import subprocess as sp\n",
    "import xarray as xr\n",
    "import pandas as pd\n",
    "from cdo import Cdo"
   ]
  },
  {
   "cell_type": "code",
   "execution_count": null,
   "id": "74618ef7-6033-4c84-b802-3e363e92910d",
   "metadata": {
    "tags": []
   },
   "outputs": [],
   "source": [
    "imerg_dir_origin = Path(\"/p/scratch/atmo-rep/data/imerg/\")\n",
    "imerg_dir_target = Path(\"/p/scratch/atmo-rep/data/imerg_regridded/\")\n",
    "\n",
    "yr_start = 2018\n",
    "yr_end = 2018\n",
    "\n",
    "grid_des_target = \"/p/project/deepacf/atmo-rep/langguth1/downstream-applications/downscaling-cgan/grid_des/cerra_dom_dx0p0833_griddes\"\n",
    "grid_des_input = \"/p/project/deepacf/atmo-rep/langguth1/downstream-applications/downscaling-cgan/grid_des/imerg_griddes\"\n",
    "\n",
    "target_domain = [-20, 36, 24, 75]     # [lon_west, lon_east, lat_south, lat_north]\n",
    "\n",
    "temp_dir = Path(\"/p/scratch/atmo-rep/cache/cdo_temp\")"
   ]
  },
  {
   "cell_type": "code",
   "execution_count": null,
   "id": "01cf2080-c681-4527-9c03-7a2212199e7b",
   "metadata": {
    "tags": []
   },
   "outputs": [],
   "source": [
    "cdo = Cdo(tempdir=temp_dir)\n",
    "\n",
    "yr_m = pd.date_range(f\"{yr_start}-01-01\", pd.to_datetime(f\"{yr_end}-12-31\") + pd.Timedelta(7, \"d\"), freq=\"m\")"
   ]
  },
  {
   "cell_type": "code",
   "execution_count": null,
   "id": "655dc954-3aaa-4b02-9a36-f3f883aece33",
   "metadata": {
    "tags": []
   },
   "outputs": [],
   "source": [
    "for m in yr_m:\n",
    "    print(f\"Start processing data for {m.strftime('%Y-%m')}...\")\n",
    "    m_str_pr = m.strftime(\"%Y-%m\")\n",
    "    m_str = m_str_pr.replace(\"-\", \"\") \n",
    "    \n",
    "    flist = glob.glob(str(imerg_dir_origin.joinpath(f\"3B-HHR.MS.MRG.3IMERG.{m_str}*-S*.HDF5.nc4\")))\n",
    "    # sanity check\n",
    "    nfiles_expected = m.days_in_month*24 \n",
    "    nfiles_found = len(flist)\n",
    "    \n",
    "    if nfiles_found != nfiles_expected:\n",
    "        print(f\"Unexpected number of files found for {m_str_pr}. Expected {nfiles_expected}, but found {nfiles_found} files. Skip processing data for this month.\")\n",
    "        continue\n",
    "    \n",
    "    # merge data to monthly file\n",
    "    outfile = imerg_dir_target.joinpath(f\"3B-HHR.MS.MRG.3IMERG.{m.strftime('y%Y_m%m')}.nc\")\n",
    "    print(\"Start merging monthly data...\")\n",
    "    ofile = cdo.mergetime(input=flist)\n",
    "    print(\"Slice spatially monthly data...\")\n",
    "    ofile_tmp = f\"{ofile}_tmp.nc\"\n",
    "    ofile = cdo.sellonlatbox(\",\".join([str(num) for num in target_domain]), input=ofile)#, output=ofile_tmp)\n",
    "    # re-order dimensions\n",
    "    cmd_ncpdq = f\"ncpdq -O --rdr=time,lat,lon {ofile} {ofile}\"\n",
    "    sp.check_output(cmd_ncpdq, shell=True)\n",
    "    # correct dimension attribute\n",
    "    cmd_ncatted = f'ncatted -O -a DimensionNames,precipitation,o,c,\"time,lat,lon\" {ofile}'\n",
    "    sp.check_output(cmd_ncatted, shell=True)\n",
    "    print(\"Perform remapping onto target grid...\")\n",
    "    cdo.remapcon(grid_des_target, input=f\"-setgrid,{grid_des_input} {str(ofile)}\", output=str(outfile))\n",
    "    \n",
    "    print(f\"Processing of data for {m_str_pr} finished...\")"
   ]
  },
  {
   "cell_type": "code",
   "execution_count": null,
   "id": "1af9801a-1f3a-41be-8061-0793291376dc",
   "metadata": {
    "tags": []
   },
   "outputs": [],
   "source": [
    "\",\".join([-20, 36, 24, 75])\n"
   ]
  },
  {
   "cell_type": "code",
   "execution_count": null,
   "id": "9027ed64-bb23-4460-aa8c-13c84c8c0162",
   "metadata": {},
   "outputs": [],
   "source": []
  }
 ],
 "metadata": {
  "kernelspec": {
   "display_name": "langguth1_downscaling_kernel_juwels",
   "language": "python",
   "name": "langguth1_downscaling_kernel_juwels"
  },
  "language_info": {
   "codemirror_mode": {
    "name": "ipython",
    "version": 3
   },
   "file_extension": ".py",
   "mimetype": "text/x-python",
   "name": "python",
   "nbconvert_exporter": "python",
   "pygments_lexer": "ipython3",
   "version": "3.9.6"
  }
 },
 "nbformat": 4,
 "nbformat_minor": 5
}
